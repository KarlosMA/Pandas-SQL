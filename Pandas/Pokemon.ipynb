{
 "cells": [
  {
   "attachments": {
    "pandas.jpg": {
     "image/jpeg": "[encoded data removed]"
    }
   },
   "cell_type": "markdown",
   "metadata": {},
   "source": [
    "# Exercise Pandas: POKEMON\n",
    "\n",
    "\n",
    "## **Carlos**\n",
    "\n",
    "\n",
    "\n",
    "\n",
    "![pandas.jpg](Assets/pandas.jpg)\n",
    "\n",
    "\n",
    "\n",
    "https://pandas.pydata.org"
   ]
  },
  {
   "cell_type": "code",
   "execution_count": 1,
   "metadata": {},
   "outputs": [],
   "source": [
    "#import libraries\n",
    "import pandas as pd\n",
    "import numpy as np\n",
    "import matplotlib.pyplot as plt"
   ]
  },
  {
   "cell_type": "code",
   "execution_count": 2,
   "metadata": {},
   "outputs": [],
   "source": [
    "#Antes para leer un csv file hemos simplemente hecho:\n",
    "#df = pd.read_csv(path+namefile)\n",
    "#Ahora\n",
    "import pandas as pd\n",
    "df = pd.read_excel('Data/pokemon.xlsx')\n"
   ]
  },
  {
   "cell_type": "code",
   "execution_count": 3,
   "metadata": {},
   "outputs": [
    {
     "output_type": "execute_result",
     "data": {
      "text/plain": [
       "     Unnamed: 0    #                   Name   Type 1  Type 2  Total  HP  \\\n",
       "0             0    1              Bulbasaur    Grass  Poison    318  45   \n",
       "1             1    2                Ivysaur    Grass  Poison    405  60   \n",
       "2             2    3               Venusaur    Grass  Poison    525  80   \n",
       "3             3    3  VenusaurMega Venusaur    Grass  Poison    625  80   \n",
       "4             4    4             Charmander     Fire     NaN    309  39   \n",
       "..          ...  ...                    ...      ...     ...    ...  ..   \n",
       "795         795  719                Diancie     Rock   Fairy    600  50   \n",
       "796         796  719    DiancieMega Diancie     Rock   Fairy    700  50   \n",
       "797         797  720    HoopaHoopa Confined  Psychic   Ghost    600  80   \n",
       "798         798  720     HoopaHoopa Unbound  Psychic    Dark    680  80   \n",
       "799         799  721              Volcanion     Fire   Water    600  80   \n",
       "\n",
       "     Attack  Defense  Sp. Atk  Sp. Def  Speed  Generation  Legendary  \n",
       "0        49       49       65       65     45           1      False  \n",
       "1        62       63       80       80     60           1      False  \n",
       "2        82       83      100      100     80           1      False  \n",
       "3       100      123      122      120     80           1      False  \n",
       "4        52       43       60       50     65           1      False  \n",
       "..      ...      ...      ...      ...    ...         ...        ...  \n",
       "795     100      150      100      150     50           6       True  \n",
       "796     160      110      160      110    110           6       True  \n",
       "797     110       60      150      130     70           6       True  \n",
       "798     160       60      170      130     80           6       True  \n",
       "799     110      120      130       90     70           6       True  \n",
       "\n",
       "[800 rows x 14 columns]"
      ],
      "text/html": "<div>\n<style scoped>\n    .dataframe tbody tr th:only-of-type {\n        vertical-align: middle;\n    }\n\n    .dataframe tbody tr th {\n        vertical-align: top;\n    }\n\n    .dataframe thead th {\n        text-align: right;\n    }\n</style>\n<table border=\"1\" class=\"dataframe\">\n  <thead>\n    <tr style=\"text-align: right;\">\n      <th></th>\n      <th>Unnamed: 0</th>\n      <th>#</th>\n      <th>Name</th>\n      <th>Type 1</th>\n      <th>Type 2</th>\n      <th>Total</th>\n      <th>HP</th>\n      <th>Attack</th>\n      <th>Defense</th>\n      <th>Sp. Atk</th>\n      <th>Sp. Def</th>\n      <th>Speed</th>\n      <th>Generation</th>\n      <th>Legendary</th>\n    </tr>\n  </thead>\n  <tbody>\n    <tr>\n      <th>0</th>\n      <td>0</td>\n      <td>1</td>\n      <td>Bulbasaur</td>\n      <td>Grass</td>\n      <td>Poison</td>\n      <td>318</td>\n      <td>45</td>\n      <td>49</td>\n      <td>49</td>\n      <td>65</td>\n      <td>65</td>\n      <td>45</td>\n      <td>1</td>\n      <td>False</td>\n    </tr>\n    <tr>\n      <th>1</th>\n      <td>1</td>\n      <td>2</td>\n      <td>Ivysaur</td>\n      <td>Grass</td>\n      <td>Poison</td>\n      <td>405</td>\n      <td>60</td>\n      <td>62</td>\n      <td>63</td>\n      <td>80</td>\n      <td>80</td>\n      <td>60</td>\n      <td>1</td>\n      <td>False</td>\n    </tr>\n    <tr>\n      <th>2</th>\n      <td>2</td>\n      <td>3</td>\n      <td>Venusaur</td>\n      <td>Grass</td>\n      <td>Poison</td>\n      <td>525</td>\n      <td>80</td>\n      <td>82</td>\n      <td>83</td>\n      <td>100</td>\n      <td>100</td>\n      <td>80</td>\n      <td>1</td>\n      <td>False</td>\n    </tr>\n    <tr>\n      <th>3</th>\n      <td>3</td>\n      <td>3</td>\n      <td>VenusaurMega Venusaur</td>\n      <td>Grass</td>\n      <td>Poison</td>\n      <td>625</td>\n      <td>80</td>\n      <td>100</td>\n      <td>123</td>\n      <td>122</td>\n      <td>120</td>\n      <td>80</td>\n      <td>1</td>\n      <td>False</td>\n    </tr>\n    <tr>\n      <th>4</th>\n      <td>4</td>\n      <td>4</td>\n      <td>Charmander</td>\n      <td>Fire</td>\n      <td>NaN</td>\n      <td>309</td>\n      <td>39</td>\n      <td>52</td>\n      <td>43</td>\n      <td>60</td>\n      <td>50</td>\n      <td>65</td>\n      <td>1</td>\n      <td>False</td>\n    </tr>\n    <tr>\n      <th>...</th>\n      <td>...</td>\n      <td>...</td>\n      <td>...</td>\n      <td>...</td>\n      <td>...</td>\n      <td>...</td>\n      <td>...</td>\n      <td>...</td>\n      <td>...</td>\n      <td>...</td>\n      <td>...</td>\n      <td>...</td>\n      <td>...</td>\n      <td>...</td>\n    </tr>\n    <tr>\n      <th>795</th>\n      <td>795</td>\n      <td>719</td>\n      <td>Diancie</td>\n      <td>Rock</td>\n      <td>Fairy</td>\n      <td>600</td>\n      <td>50</td>\n      <td>100</td>\n      <td>150</td>\n      <td>100</td>\n      <td>150</td>\n      <td>50</td>\n      <td>6</td>\n      <td>True</td>\n    </tr>\n    <tr>\n      <th>796</th>\n      <td>796</td>\n      <td>719</td>\n      <td>DiancieMega Diancie</td>\n      <td>Rock</td>\n      <td>Fairy</td>\n      <td>700</td>\n      <td>50</td>\n      <td>160</td>\n      <td>110</td>\n      <td>160</td>\n      <td>110</td>\n      <td>110</td>\n      <td>6</td>\n      <td>True</td>\n    </tr>\n    <tr>\n      <th>797</th>\n      <td>797</td>\n      <td>720</td>\n      <td>HoopaHoopa Confined</td>\n      <td>Psychic</td>\n      <td>Ghost</td>\n      <td>600</td>\n      <td>80</td>\n      <td>110</td>\n      <td>60</td>\n      <td>150</td>\n      <td>130</td>\n      <td>70</td>\n      <td>6</td>\n      <td>True</td>\n    </tr>\n    <tr>\n      <th>798</th>\n      <td>798</td>\n      <td>720</td>\n      <td>HoopaHoopa Unbound</td>\n      <td>Psychic</td>\n      <td>Dark</td>\n      <td>680</td>\n      <td>80</td>\n      <td>160</td>\n      <td>60</td>\n      <td>170</td>\n      <td>130</td>\n      <td>80</td>\n      <td>6</td>\n      <td>True</td>\n    </tr>\n    <tr>\n      <th>799</th>\n      <td>799</td>\n      <td>721</td>\n      <td>Volcanion</td>\n      <td>Fire</td>\n      <td>Water</td>\n      <td>600</td>\n      <td>80</td>\n      <td>110</td>\n      <td>120</td>\n      <td>130</td>\n      <td>90</td>\n      <td>70</td>\n      <td>6</td>\n      <td>True</td>\n    </tr>\n  </tbody>\n</table>\n<p>800 rows × 14 columns</p>\n</div>"
     },
     "metadata": {},
     "execution_count": 3
    }
   ],
   "source": [
    "df"
   ]
  },
  {
   "cell_type": "markdown",
   "metadata": {},
   "source": [
    "---\n",
    "## Exercises, completa:\n",
    "---"
   ]
  },
  {
   "cell_type": "code",
   "execution_count": 4,
   "metadata": {},
   "outputs": [],
   "source": [
    "# (1) mostrar solo las primeras filas:\n",
    "# sugerencia <<head>>"
   ]
  },
  {
   "cell_type": "code",
   "execution_count": 5,
   "metadata": {},
   "outputs": [],
   "source": [
    "# (2) mostrar solo los nombres de los pokemon\n",
    "# sugerencia : ['nombre_columna']"
   ]
  },
  {
   "cell_type": "code",
   "execution_count": 6,
   "metadata": {},
   "outputs": [],
   "source": [
    "# (3) cuantos entradas  hay?\n",
    "#sugerencia : <<len>>"
   ]
  },
  {
   "cell_type": "code",
   "execution_count": 7,
   "metadata": {},
   "outputs": [],
   "source": [
    "# (4) encuentra las informaciones generales del dataset\n",
    "# sugerencia: utiliza <<info>> y <<describe>>\n"
   ]
  },
  {
   "cell_type": "code",
   "execution_count": 8,
   "metadata": {},
   "outputs": [],
   "source": [
    "#(5) hay columnas con valores nulos? cuantos son?\n",
    "# sugerencia : <<isnull().sum>>\n",
    "\n"
   ]
  },
  {
   "cell_type": "code",
   "execution_count": 9,
   "metadata": {},
   "outputs": [],
   "source": [
    "#(6) cuantos pokemons legendarios hay?\n",
    "# sugerencia ['nombreColumna'].sum()\n"
   ]
  },
  {
   "cell_type": "code",
   "execution_count": 10,
   "metadata": {},
   "outputs": [],
   "source": [
    "### Pregunta ---> me sabeis decir como ha hecho el programa a calcular ese numero?"
   ]
  },
  {
   "cell_type": "code",
   "execution_count": 11,
   "metadata": {},
   "outputs": [],
   "source": [
    "#(7) hay en el database el pokemon Pikachu?\n",
    "#sugerencia [df['Nombre_columna_donde_buscas'] == 'elNombreQbuscas']\n"
   ]
  },
  {
   "cell_type": "code",
   "execution_count": 12,
   "metadata": {},
   "outputs": [],
   "source": [
    "## (8) muestra solo las lineas de estos pokemons: ['Pikachu', 'Bulbasaur', 'Charmander', 'Squirtle']\n",
    "# sugerencia [df.loc[:,'nombreColumnaDondeBuscas'].isin([listadoNombres])]"
   ]
  },
  {
   "cell_type": "code",
   "execution_count": 13,
   "metadata": {},
   "outputs": [],
   "source": [
    "# (9) crea un database nuevo solo con los pokemons seleccionados antes\n",
    "# sugerencia: simplemente un nombre nuevo al dataframe de antes..."
   ]
  },
  {
   "cell_type": "code",
   "execution_count": 14,
   "metadata": {},
   "outputs": [],
   "source": [
    "# (10) Un barPlot que compare los attack de los pokemons seleccionados antes\n",
    "# sugerencia: newdf.plot.bar(x='losNombres', y='elAttack', color=['green', 'red', 'blue', 'yellow'], title='Attack Comparison')"
   ]
  },
  {
   "cell_type": "markdown",
   "metadata": {},
   "source": [
    "\n",
    "---\n",
    "\n",
    "## PART2: Limpiar los Datos\n",
    "\n",
    "---\n"
   ]
  },
  {
   "cell_type": "code",
   "execution_count": 15,
   "metadata": {},
   "outputs": [],
   "source": [
    "#1) la primer columna se llama # ....mejor buscar otro nombre, por ejemplo \"numero\". Renombrar la columna\n",
    "#sugerencia : .rename(columns={'nombreViejo':'nombreNuevo'})\n",
    "\n",
    "#averigua que lo has hecho bien con <<df.columns>>\n",
    "\n",
    "\n"
   ]
  },
  {
   "cell_type": "code",
   "execution_count": 16,
   "metadata": {},
   "outputs": [],
   "source": [
    "#2) selecciona solo los Pokemon que so comunes  (incluyendo los duplicados) (legendry = False)\n",
    "#sugerencia << [df['Legendary']==....] >>"
   ]
  },
  {
   "cell_type": "code",
   "execution_count": 17,
   "metadata": {},
   "outputs": [],
   "source": [
    "# 3) Averigua cuantos pokemon hay por cada numero, osea cuantos duplicados en el database\n",
    "#Sugerencia: (prueba con numero)\n",
    "#['NumbreColumna'].groupby(DataFrameNombre['NombreColumna']).count().sort_values(ascending=False)"
   ]
  },
  {
   "cell_type": "code",
   "execution_count": 18,
   "metadata": {},
   "outputs": [],
   "source": [
    "# 4) Pues si, hay duplicados! Vamos a quitarlos:\n",
    "#sugerencia nuevoNombreDataframe  = df.drop_duplicates('NombreColumna', keep='first', inplace=False)"
   ]
  },
  {
   "cell_type": "code",
   "execution_count": 19,
   "metadata": {},
   "outputs": [],
   "source": [
    "# 5) cuantos pokemons unicos quedan?\n",
    "# sugerencia: ya has visto antes como se mira lalongitud de un database...."
   ]
  },
  {
   "cell_type": "code",
   "execution_count": 20,
   "metadata": {},
   "outputs": [],
   "source": [
    "# 6) cual TIPO de pokemon es mas fuerte en PROMEDIO? (consideranto Total)\n",
    "#sugerencia\n",
    "#<strongest_type_prom = noDuplicate[['Type 1','Total']].groupby(noDuplicate['Type 1']).mean().sort_values(by='Total', ascending=False)>\n",
    "\n"
   ]
  }
 ],
 "metadata": {
  "kernelspec": {
   "name": "python3",
   "display_name": "Python 3.7.0 64-bit ('.venv')"
  },
  "language_info": {
   "codemirror_mode": {
    "name": "ipython",
    "version": 3
   },
   "file_extension": ".py",
   "mimetype": "text/x-python",
   "name": "python",
   "nbconvert_exporter": "python",
   "pygments_lexer": "ipython3",
   "version": "3.7.0-final"
  },
  "interpreter": {
   "hash": "88932bc7457214aa686ccca3b4903b295e27b9a33a981ee4f65ad1361f08a06e"
  }
 },
 "nbformat": 4,
 "nbformat_minor": 2
}