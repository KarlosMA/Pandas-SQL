{
 "cells": [
  {
   "cell_type": "markdown",
   "metadata": {
    "slideshow": {
     "slide_type": "-"
    }
   },
   "source": [
    "Solución ejercicios SQLAlchemy  \n",
    "==========================="
   ]
  },
  {
   "cell_type": "markdown",
   "metadata": {},
   "source": [
    "## Ejercicios\n",
    "\n",
    "1. Defina dos tablas (users y accounts) haciendo uso de SQLAlchemy con los siguientes atributos:\n",
    "    * users: \n",
    "        - user_id: tipo Integer, es primary_key\n",
    "        - username: tipo String, no pueder ser nulo, tiene que ser único\n",
    "        - email_address: tipo String, no puede ser nulo\n",
    "        - phone: tipo String, no puede ser nulo\n",
    "        - password: tipo String, no puede ser nulo\n",
    "        - created_on: tipo DateTime, tien por defecto la hora de creación\n",
    "    * accounts:\n",
    "        - accounts_id: tipo Integer, es primary_key\n",
    "        - user_id: es ForeignKey de users.user_id\n",
    "        - iban: tipo String\n",
    "        - bic: tipo String\n",
    "        - money: tipo Numeric con 2 decimales\n",
    "        \n",
    "2. Cree las tablas anteriormente definidas con ayuda de un conector SQLite en un fichero de nombre `test.db`. \n",
    "3. Introducta al menos 3 valores por cada tabla.\n",
    "4. Lea todos los valores de las tablas para comprobar se han introducido de forma correcta. "
   ]
  },
  {
   "cell_type": "code",
   "execution_count": 1,
   "metadata": {},
   "outputs": [
    {
     "output_type": "stream",
     "name": "stdout",
     "text": [
      "2021-07-13 20:48:15,506 INFO sqlalchemy.engine.Engine BEGIN (implicit)\n",
      "2021-07-13 20:48:15,507 INFO sqlalchemy.engine.Engine PRAGMA main.table_info(\"users\")\n",
      "2021-07-13 20:48:15,508 INFO sqlalchemy.engine.Engine [raw sql] ()\n",
      "2021-07-13 20:48:15,511 INFO sqlalchemy.engine.Engine PRAGMA temp.table_info(\"users\")\n",
      "2021-07-13 20:48:15,513 INFO sqlalchemy.engine.Engine [raw sql] ()\n",
      "2021-07-13 20:48:15,515 INFO sqlalchemy.engine.Engine PRAGMA main.table_info(\"accounts\")\n",
      "2021-07-13 20:48:15,517 INFO sqlalchemy.engine.Engine [raw sql] ()\n",
      "2021-07-13 20:48:15,518 INFO sqlalchemy.engine.Engine PRAGMA temp.table_info(\"accounts\")\n",
      "2021-07-13 20:48:15,519 INFO sqlalchemy.engine.Engine [raw sql] ()\n",
      "2021-07-13 20:48:15,522 INFO sqlalchemy.engine.Engine \n",
      "CREATE TABLE users (\n",
      "\tuser_id INTEGER NOT NULL, \n",
      "\tusername VARCHAR(15) NOT NULL, \n",
      "\temail_address VARCHAR(255) NOT NULL, \n",
      "\tphone VARCHAR(20) NOT NULL, \n",
      "\tpassword VARCHAR(25) NOT NULL, \n",
      "\tcreated_on DATETIME, \n",
      "\tPRIMARY KEY (user_id), \n",
      "\tUNIQUE (username)\n",
      ")\n",
      "\n",
      "\n",
      "2021-07-13 20:48:15,523 INFO sqlalchemy.engine.Engine [no key 0.00132s] ()\n",
      "2021-07-13 20:48:15,535 INFO sqlalchemy.engine.Engine \n",
      "CREATE TABLE accounts (\n",
      "\taccounts_id INTEGER NOT NULL, \n",
      "\tuser_id INTEGER, \n",
      "\tiban VARCHAR(24), \n",
      "\tbic VARCHAR(11), \n",
      "\tmoney NUMERIC(12, 2), \n",
      "\tPRIMARY KEY (accounts_id), \n",
      "\tFOREIGN KEY(user_id) REFERENCES users (user_id)\n",
      ")\n",
      "\n",
      "\n",
      "2021-07-13 20:48:15,536 INFO sqlalchemy.engine.Engine [no key 0.00116s] ()\n",
      "2021-07-13 20:48:15,544 INFO sqlalchemy.engine.Engine COMMIT\n"
     ]
    }
   ],
   "source": [
    "from datetime import datetime\n",
    "from sqlalchemy import Integer, Numeric, String, DateTime, MetaData, ForeignKey, Table, Column, create_engine\n",
    "\n",
    "engine = create_engine('sqlite:///test.db', echo=True)\n",
    "\n",
    "metadata = MetaData()\n",
    "\n",
    "users = Table('users', metadata,\n",
    "              Column('user_id', Integer(), primary_key=True),\n",
    "              Column('username', String(15), nullable=False, unique=True),\n",
    "              Column('email_address', String(255), nullable=False),\n",
    "              Column('phone', String(20), nullable=False),\n",
    "              Column('password', String(25), nullable=False),\n",
    "              Column('created_on', DateTime(), default=datetime.now)\n",
    "             )\n",
    "\n",
    "\n",
    "accounts = Table('accounts', metadata,\n",
    "                   Column('accounts_id', Integer(), primary_key=True),\n",
    "                   Column('user_id', ForeignKey('users.user_id')),\n",
    "                   Column('iban', String(24)),\n",
    "                   Column('bic', String(11)),\n",
    "                   Column('money', Numeric(12, 2))\n",
    "                )\n",
    "\n",
    "metadata.create_all(engine)"
   ]
  },
  {
   "cell_type": "code",
   "execution_count": 2,
   "metadata": {},
   "outputs": [],
   "source": [
    "from sqlalchemy.orm import sessionmaker\n",
    "Session = sessionmaker(bind=engine)\n",
    "\n",
    "#Inicio de la sesion\n",
    "session = Session()\n",
    "\n",
    "conn = engine.connect()"
   ]
  },
  {
   "cell_type": "code",
   "execution_count": 3,
   "metadata": {},
   "outputs": [
    {
     "output_type": "stream",
     "name": "stdout",
     "text": [
      "2021-07-13 20:48:15,771 INFO sqlalchemy.engine.Engine INSERT INTO users (username, email_address, phone, password, created_on) VALUES (?, ?, ?, ?, ?)\n",
      "2021-07-13 20:48:15,772 INFO sqlalchemy.engine.Engine [generated in 0.00195s] (('RoyMur', 'roy.murray@example.com', '5793532223', '$5&02qq', '2021-07-13 20:48:15.771091'), ('Debar', 'debra@example.com', '13472995333', '%yr6&23ca', '2021-07-13 20:48:15.771091'), ('Bemore', 'becky.moreno@example.com', '9474992253', '$534^3q4q', '2021-07-13 20:48:15.771091'))\n",
      "2021-07-13 20:48:15,780 INFO sqlalchemy.engine.Engine COMMIT\n",
      "2021-07-13 20:48:15,795 INFO sqlalchemy.engine.Engine INSERT INTO accounts (user_id, iban, bic, money) VALUES (?, ?, ?, ?)\n",
      "2021-07-13 20:48:15,797 INFO sqlalchemy.engine.Engine [generated in 0.00256s] ((1, '25626055778', '3456123', 1000.0), (2, '34435461222', '1243253', 10234.07), (3, '80324634122', '0345456', 107800.33))\n",
      "2021-07-13 20:48:15,800 INFO sqlalchemy.engine.Engine COMMIT\n"
     ]
    }
   ],
   "source": [
    "conn.execute(users.insert(), [\n",
    "    {'username': 'RoyMur', 'email_address': 'roy.murray@example.com', 'phone': '5793532223', 'password': '$5&02qq'},\n",
    "    {'username': 'Debar', 'email_address': 'debra@example.com', 'phone': '13472995333', 'password': '%yr6&23ca'},\n",
    "    {'username': 'Bemore', 'email_address': 'becky.moreno@example.com', 'phone': '9474992253', 'password': '$534^3q4q'}\n",
    "])\n",
    "\n",
    "result1 = conn.execute(accounts.insert(), [\n",
    "    {'user_id': 1, 'iban': '25626055778', 'bic': '3456123', 'money': 1000.00},\n",
    "    {'user_id': 2, 'iban': '34435461222', 'bic': '1243253', 'money': 10234.07},\n",
    "    {'user_id': 3, 'iban': '80324634122', 'bic': '0345456', 'money': 107800.33},\n",
    "])"
   ]
  },
  {
   "cell_type": "code",
   "execution_count": 4,
   "metadata": {},
   "outputs": [
    {
     "output_type": "stream",
     "name": "stdout",
     "text": [
      "2021-07-13 20:48:15,825 INFO sqlalchemy.engine.Engine SELECT users.user_id, users.username, users.email_address, users.phone, users.password, users.created_on \n",
      "FROM users\n",
      "2021-07-13 20:48:15,827 INFO sqlalchemy.engine.Engine [generated in 0.00142s] ()\n"
     ]
    },
    {
     "output_type": "execute_result",
     "data": {
      "text/plain": [
       "[(1, 'RoyMur', 'roy.murray@example.com', '5793532223', '$5&02qq', datetime.datetime(2021, 7, 13, 20, 48, 15, 771091)),\n",
       " (2, 'Debar', 'debra@example.com', '13472995333', '%yr6&23ca', datetime.datetime(2021, 7, 13, 20, 48, 15, 771091)),\n",
       " (3, 'Bemore', 'becky.moreno@example.com', '9474992253', '$534^3q4q', datetime.datetime(2021, 7, 13, 20, 48, 15, 771091))]"
      ]
     },
     "metadata": {},
     "execution_count": 4
    }
   ],
   "source": [
    "from sqlalchemy.sql import select\n",
    "s = select([users])\n",
    "result = conn.execute(s)\n",
    "result.fetchall()"
   ]
  },
  {
   "cell_type": "code",
   "execution_count": 5,
   "metadata": {},
   "outputs": [
    {
     "output_type": "stream",
     "name": "stdout",
     "text": [
      "2021-07-13 20:48:15,871 INFO sqlalchemy.engine.Engine SELECT accounts.accounts_id, accounts.user_id, accounts.iban, accounts.bic, accounts.money \n",
      "FROM accounts\n",
      "2021-07-13 20:48:15,873 INFO sqlalchemy.engine.Engine [generated in 0.00208s] ()\n",
      "c:\\Users\\Carlos\\Documents\\GitHub\\Pandas-SQL\\.venv\\lib\\site-packages\\ipykernel_launcher.py:2: SAWarning: Dialect sqlite+pysqlite does *not* support Decimal objects natively, and SQLAlchemy must convert from floating point - rounding errors and other issues may occur. Please consider storing Decimal numbers as strings or integers on this platform for lossless storage.\n",
      "  \n"
     ]
    },
    {
     "output_type": "execute_result",
     "data": {
      "text/plain": [
       "[(1, 1, '25626055778', '3456123', Decimal('1000.00')),\n",
       " (2, 2, '34435461222', '1243253', Decimal('10234.07')),\n",
       " (3, 3, '80324634122', '0345456', Decimal('107800.33'))]"
      ]
     },
     "metadata": {},
     "execution_count": 5
    }
   ],
   "source": [
    "s = select([accounts])\n",
    "result = conn.execute(s)\n",
    "result.fetchall()"
   ]
  },
  {
   "cell_type": "code",
   "execution_count": 6,
   "metadata": {},
   "outputs": [],
   "source": [
    "conn.close()"
   ]
  }
 ],
 "metadata": {
  "kernelspec": {
   "name": "python3",
   "display_name": "Python 3.7.0 64-bit ('.venv')"
  },
  "language_info": {
   "codemirror_mode": {
    "name": "ipython",
    "version": 3
   },
   "file_extension": ".py",
   "mimetype": "text/x-python",
   "name": "python",
   "nbconvert_exporter": "python",
   "pygments_lexer": "ipython3",
   "version": "3.7.0-final"
  },
  "interpreter": {
   "hash": "88932bc7457214aa686ccca3b4903b295e27b9a33a981ee4f65ad1361f08a06e"
  }
 },
 "nbformat": 4,
 "nbformat_minor": 1
}