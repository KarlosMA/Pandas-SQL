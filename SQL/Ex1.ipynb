{
 "cells": [
  {
   "cell_type": "markdown",
   "metadata": {
    "colab_type": "text",
    "id": "aA10ZFisrSht"
   },
   "source": [
    "# SQL y Pandas"
   ]
  },
  {
   "cell_type": "markdown",
   "metadata": {
    "colab_type": "text",
    "id": "VXFjCtYt0NR0"
   },
   "source": [
    "Pandas puede interactuar con diferentes tipos de bases de datos a través de conectores. Estos pueden ser utilizados directamente (conectores nativos) o a través de SQLAlchemy."
   ]
  },
  {
   "cell_type": "markdown",
   "metadata": {
    "colab_type": "text",
    "id": "w1DDV3rI0NR2"
   },
   "source": [
    "Ejemplo de uso de SQLite "
   ]
  },
  {
   "cell_type": "code",
   "execution_count": 1,
   "metadata": {
    "colab": {
     "base_uri": "https://localhost:8080/",
     "height": 34
    },
    "colab_type": "code",
    "executionInfo": {
     "elapsed": 3244,
     "status": "ok",
     "timestamp": 1558678293358,
     "user": {
      "displayName": "Carlos Blanco",
      "photoUrl": "",
      "userId": "15127770786821256103"
     },
     "user_tz": -120
    },
    "id": "J7OK_Q2L0NR5",
    "outputId": "0ea0dc7b-64e4-4d1c-96a0-8a880fb178aa"
   },
   "outputs": [],
   "source": [
    "import sqlite3\n",
    "db = sqlite3.connect(\"DB/flights.db\")"
   ]
  },
  {
   "cell_type": "code",
   "execution_count": 2,
   "metadata": {
    "colab": {
     "base_uri": "https://localhost:8080/",
     "height": 434
    },
    "colab_type": "code",
    "executionInfo": {
     "elapsed": 1592,
     "status": "error",
     "timestamp": 1558678230077,
     "user": {
      "displayName": "Carlos Blanco",
      "photoUrl": "",
      "userId": "15127770786821256103"
     },
     "user_tz": -120
    },
    "id": "nzg5hYBX0NSG",
    "outputId": "fa939604-4653-49b7-eb4a-3616ab430200"
   },
   "outputs": [],
   "source": [
    "import pandas as pd\n",
    "import numpy as np\n",
    "\n",
    "airports = pd.read_sql('select * from airports;', con = db).replace('\\\\N', np.nan)\n",
    "airlines = pd.read_sql('select * from airlines;', con = db).replace('\\\\N', np.nan)\n",
    "routes = pd.read_sql('select * from routes;', con = db).replace('\\\\N', np.nan)"
   ]
  },
  {
   "cell_type": "code",
   "execution_count": 3,
   "metadata": {
    "colab": {},
    "colab_type": "code",
    "id": "YGcjGEGJ0NSP",
    "outputId": "3015496c-5a45-46d3-933e-1f8a04e31b9f"
   },
   "outputs": [
    {
     "output_type": "stream",
     "name": "stdout",
     "text": [
      "<class 'pandas.core.frame.DataFrame'>\nRangeIndex: 8107 entries, 0 to 8106\nData columns (total 13 columns):\n #   Column     Non-Null Count  Dtype \n---  ------     --------------  ----- \n 0   index      8107 non-null   int64 \n 1   id         8107 non-null   object\n 2   name       8107 non-null   object\n 3   city       8107 non-null   object\n 4   country    8107 non-null   object\n 5   code       5880 non-null   object\n 6   icao       6785 non-null   object\n 7   latitude   8107 non-null   object\n 8   longitude  8107 non-null   object\n 9   altitude   8107 non-null   object\n 10  offset     8107 non-null   object\n 11  dst        8107 non-null   object\n 12  timezone   8015 non-null   object\ndtypes: int64(1), object(12)\nmemory usage: 823.5+ KB\n<class 'pandas.core.frame.DataFrame'>\nRangeIndex: 6048 entries, 0 to 6047\nData columns (total 9 columns):\n #   Column    Non-Null Count  Dtype \n---  ------    --------------  ----- \n 0   index     6048 non-null   int64 \n 1   id        6048 non-null   object\n 2   name      6048 non-null   object\n 3   alias     138 non-null    object\n 4   iata      1460 non-null   object\n 5   icao      5796 non-null   object\n 6   callsign  5302 non-null   object\n 7   country   6030 non-null   object\n 8   active    6048 non-null   object\ndtypes: int64(1), object(8)\nmemory usage: 425.4+ KB\n<class 'pandas.core.frame.DataFrame'>\nRangeIndex: 67663 entries, 0 to 67662\nData columns (total 10 columns):\n #   Column      Non-Null Count  Dtype \n---  ------      --------------  ----- \n 0   index       67663 non-null  int64 \n 1   airline     67663 non-null  object\n 2   airline_id  66985 non-null  object\n 3   source      67663 non-null  object\n 4   source_id   67424 non-null  object\n 5   dest        67663 non-null  object\n 6   dest_id     67421 non-null  object\n 7   codeshare   14597 non-null  object\n 8   stops       67663 non-null  object\n 9   equipment   67645 non-null  object\ndtypes: int64(1), object(9)\nmemory usage: 5.2+ MB\n"
     ]
    }
   ],
   "source": [
    "airports.info()\n",
    "airlines.info()\n",
    "routes.info()"
   ]
  },
  {
   "cell_type": "markdown",
   "metadata": {
    "colab": {},
    "colab_type": "code",
    "id": "erRXBOERrSiE"
   },
   "source": [
    "**SELECT**"
   ]
  },
  {
   "cell_type": "code",
   "execution_count": 4,
   "metadata": {
    "colab": {
     "base_uri": "https://localhost:8080/",
     "height": 218
    },
    "colab_type": "code",
    "id": "FZ75dxnErSiQ",
    "outputId": "c3985ca4-ca49-4d15-d52d-914c598c76cb",
    "scrolled": true
   },
   "outputs": [
    {
     "output_type": "execute_result",
     "data": {
      "text/plain": [
       "      index    id               name    city country  code  icao   latitude  \\\n",
       "1201   1201  1224             Getafe  Madrid   Spain  None  LEGT  40.294139   \n",
       "1206   1206  1229            Barajas  Madrid   Spain   MAD  LEMD  40.493556   \n",
       "1222   1222  1245           Torrejon  Madrid   Spain   TOJ  LETO  40.496747   \n",
       "1225   1225  1248     Cuatro Vientos  Madrid   Spain  None  LEVS  40.370678   \n",
       "8052   8052  9487             Atocha  Madrid   Spain  None  MDAT    40.4075   \n",
       "8059   8059  9494  Chamartin Station  Madrid   Spain  None  MADC  40.472272   \n",
       "\n",
       "      longitude altitude offset dst       timezone  \n",
       "1201  -3.723833     2029      1   E  Europe/Madrid  \n",
       "1206  -3.566764     2000      1   E  Europe/Madrid  \n",
       "1222  -3.445872     2026      1   E  Europe/Madrid  \n",
       "1225  -3.785144     2267      1   E  Europe/Madrid  \n",
       "8052  -3.691667     2188      1   E  Europe/Madrid  \n",
       "8059   -3.68215     2188      1   E  Europe/Madrid  "
      ],
      "text/html": "<div>\n<style scoped>\n    .dataframe tbody tr th:only-of-type {\n        vertical-align: middle;\n    }\n\n    .dataframe tbody tr th {\n        vertical-align: top;\n    }\n\n    .dataframe thead th {\n        text-align: right;\n    }\n</style>\n<table border=\"1\" class=\"dataframe\">\n  <thead>\n    <tr style=\"text-align: right;\">\n      <th></th>\n      <th>index</th>\n      <th>id</th>\n      <th>name</th>\n      <th>city</th>\n      <th>country</th>\n      <th>code</th>\n      <th>icao</th>\n      <th>latitude</th>\n      <th>longitude</th>\n      <th>altitude</th>\n      <th>offset</th>\n      <th>dst</th>\n      <th>timezone</th>\n    </tr>\n  </thead>\n  <tbody>\n    <tr>\n      <th>1201</th>\n      <td>1201</td>\n      <td>1224</td>\n      <td>Getafe</td>\n      <td>Madrid</td>\n      <td>Spain</td>\n      <td>None</td>\n      <td>LEGT</td>\n      <td>40.294139</td>\n      <td>-3.723833</td>\n      <td>2029</td>\n      <td>1</td>\n      <td>E</td>\n      <td>Europe/Madrid</td>\n    </tr>\n    <tr>\n      <th>1206</th>\n      <td>1206</td>\n      <td>1229</td>\n      <td>Barajas</td>\n      <td>Madrid</td>\n      <td>Spain</td>\n      <td>MAD</td>\n      <td>LEMD</td>\n      <td>40.493556</td>\n      <td>-3.566764</td>\n      <td>2000</td>\n      <td>1</td>\n      <td>E</td>\n      <td>Europe/Madrid</td>\n    </tr>\n    <tr>\n      <th>1222</th>\n      <td>1222</td>\n      <td>1245</td>\n      <td>Torrejon</td>\n      <td>Madrid</td>\n      <td>Spain</td>\n      <td>TOJ</td>\n      <td>LETO</td>\n      <td>40.496747</td>\n      <td>-3.445872</td>\n      <td>2026</td>\n      <td>1</td>\n      <td>E</td>\n      <td>Europe/Madrid</td>\n    </tr>\n    <tr>\n      <th>1225</th>\n      <td>1225</td>\n      <td>1248</td>\n      <td>Cuatro Vientos</td>\n      <td>Madrid</td>\n      <td>Spain</td>\n      <td>None</td>\n      <td>LEVS</td>\n      <td>40.370678</td>\n      <td>-3.785144</td>\n      <td>2267</td>\n      <td>1</td>\n      <td>E</td>\n      <td>Europe/Madrid</td>\n    </tr>\n    <tr>\n      <th>8052</th>\n      <td>8052</td>\n      <td>9487</td>\n      <td>Atocha</td>\n      <td>Madrid</td>\n      <td>Spain</td>\n      <td>None</td>\n      <td>MDAT</td>\n      <td>40.4075</td>\n      <td>-3.691667</td>\n      <td>2188</td>\n      <td>1</td>\n      <td>E</td>\n      <td>Europe/Madrid</td>\n    </tr>\n    <tr>\n      <th>8059</th>\n      <td>8059</td>\n      <td>9494</td>\n      <td>Chamartin Station</td>\n      <td>Madrid</td>\n      <td>Spain</td>\n      <td>None</td>\n      <td>MADC</td>\n      <td>40.472272</td>\n      <td>-3.68215</td>\n      <td>2188</td>\n      <td>1</td>\n      <td>E</td>\n      <td>Europe/Madrid</td>\n    </tr>\n  </tbody>\n</table>\n</div>"
     },
     "metadata": {},
     "execution_count": 4
    }
   ],
   "source": [
    "# SQL select * from airports where country = 'Spain' and type = 'Madrid'\n",
    "\n",
    "airports[(airports.country == 'Spain') & (airports.city == 'Madrid')]"
   ]
  },
  {
   "cell_type": "code",
   "execution_count": 5,
   "metadata": {
    "colab": {
     "base_uri": "https://localhost:8080/",
     "height": 34
    },
    "colab_type": "code",
    "id": "5yycl7PLrSiY",
    "outputId": "00ef794b-6dd4-4854-863e-950b82622123"
   },
   "outputs": [
    {
     "output_type": "execute_result",
     "data": {
      "text/plain": [
       "1201               Getafe\n",
       "1206              Barajas\n",
       "1222             Torrejon\n",
       "1225       Cuatro Vientos\n",
       "8052               Atocha\n",
       "8059    Chamartin Station\n",
       "Name: name, dtype: object"
      ]
     },
     "metadata": {},
     "execution_count": 5
    }
   ],
   "source": [
    "# SQL select name from airports where country = 'Spain' and type = 'Madrid'\n",
    "\n",
    "airports[(airports.country == 'Spain') & (airports.city == 'Madrid')]['name']"
   ]
  },
  {
   "cell_type": "markdown",
   "metadata": {
    "colab": {},
    "colab_type": "code",
    "id": "wA5lau2nnWDj"
   },
   "source": [
    "**ORDER_BY**"
   ]
  },
  {
   "cell_type": "code",
   "execution_count": 6,
   "metadata": {
    "colab": {},
    "colab_type": "code",
    "id": "sIZMmBLRnWDz",
    "outputId": "30e30354-c9e9-4a0c-b782-e5536e868102"
   },
   "outputs": [
    {
     "output_type": "execute_result",
     "data": {
      "text/plain": [
       "      index    id                                name                city  \\\n",
       "1189   1189  1211                            Albacete            Albacete   \n",
       "6832   6832  8261                  Algeciras Heliport           Algeciras   \n",
       "6833   6833  8262                  Algeciras Heliport           Algeciras   \n",
       "8099   8099  9534                     Algerciras Port          Algerciras   \n",
       "1190   1190  1212                            Alicante            Alicante   \n",
       "1191   1191  1213                             Almeria             Almeria   \n",
       "6316   6316  7742  Lanzarote Arrecife Cruise Terminal  Arrecife Lanzarote   \n",
       "1192   1192  1214                            Asturias              Aviles   \n",
       "1196   1196  1219                    Talavera La Real             Badajoz   \n",
       "8061   8061  9496                            Aeroport           Barcelona   \n",
       "\n",
       "     country  code  icao   latitude   longitude altitude offset dst  \\\n",
       "1189   Spain  None  LEAB  38.948528   -1.863517     2302      1   E   \n",
       "6832   Spain  None   NaN  36.128889   -5.441111       98      1   E   \n",
       "6833   Spain  None   NaN  36.128889   -5.441111       98      1   E   \n",
       "8099   Spain  None   NaN     36.136      -5.435        0      1   E   \n",
       "1190   Spain   ALC  LEAL  38.282169   -0.558156      142      1   E   \n",
       "1191   Spain   LEI  LEAM  36.843936   -2.370097       70      1   E   \n",
       "6316   Spain  None   NaN  28.967298  -13.527528        0      0   E   \n",
       "1192   Spain   OVD  LEAS  43.563567   -6.034622      416      1   E   \n",
       "1196   Spain   BJZ  LEBZ   38.89125   -6.821333      609      1   E   \n",
       "8061   Spain  None  ARPT  41.288436    2.072409       39      1   E   \n",
       "\n",
       "             timezone  \n",
       "1189    Europe/Madrid  \n",
       "6832    Europe/Madrid  \n",
       "6833    Europe/Madrid  \n",
       "8099    Europe/Madrid  \n",
       "1190    Europe/Madrid  \n",
       "1191    Europe/Madrid  \n",
       "6316  Atlantic/Canary  \n",
       "1192    Europe/Madrid  \n",
       "1196    Europe/Madrid  \n",
       "8061    Europe/Madrid  "
      ],
      "text/html": "<div>\n<style scoped>\n    .dataframe tbody tr th:only-of-type {\n        vertical-align: middle;\n    }\n\n    .dataframe tbody tr th {\n        vertical-align: top;\n    }\n\n    .dataframe thead th {\n        text-align: right;\n    }\n</style>\n<table border=\"1\" class=\"dataframe\">\n  <thead>\n    <tr style=\"text-align: right;\">\n      <th></th>\n      <th>index</th>\n      <th>id</th>\n      <th>name</th>\n      <th>city</th>\n      <th>country</th>\n      <th>code</th>\n      <th>icao</th>\n      <th>latitude</th>\n      <th>longitude</th>\n      <th>altitude</th>\n      <th>offset</th>\n      <th>dst</th>\n      <th>timezone</th>\n    </tr>\n  </thead>\n  <tbody>\n    <tr>\n      <th>1189</th>\n      <td>1189</td>\n      <td>1211</td>\n      <td>Albacete</td>\n      <td>Albacete</td>\n      <td>Spain</td>\n      <td>None</td>\n      <td>LEAB</td>\n      <td>38.948528</td>\n      <td>-1.863517</td>\n      <td>2302</td>\n      <td>1</td>\n      <td>E</td>\n      <td>Europe/Madrid</td>\n    </tr>\n    <tr>\n      <th>6832</th>\n      <td>6832</td>\n      <td>8261</td>\n      <td>Algeciras Heliport</td>\n      <td>Algeciras</td>\n      <td>Spain</td>\n      <td>None</td>\n      <td>NaN</td>\n      <td>36.128889</td>\n      <td>-5.441111</td>\n      <td>98</td>\n      <td>1</td>\n      <td>E</td>\n      <td>Europe/Madrid</td>\n    </tr>\n    <tr>\n      <th>6833</th>\n      <td>6833</td>\n      <td>8262</td>\n      <td>Algeciras Heliport</td>\n      <td>Algeciras</td>\n      <td>Spain</td>\n      <td>None</td>\n      <td>NaN</td>\n      <td>36.128889</td>\n      <td>-5.441111</td>\n      <td>98</td>\n      <td>1</td>\n      <td>E</td>\n      <td>Europe/Madrid</td>\n    </tr>\n    <tr>\n      <th>8099</th>\n      <td>8099</td>\n      <td>9534</td>\n      <td>Algerciras Port</td>\n      <td>Algerciras</td>\n      <td>Spain</td>\n      <td>None</td>\n      <td>NaN</td>\n      <td>36.136</td>\n      <td>-5.435</td>\n      <td>0</td>\n      <td>1</td>\n      <td>E</td>\n      <td>Europe/Madrid</td>\n    </tr>\n    <tr>\n      <th>1190</th>\n      <td>1190</td>\n      <td>1212</td>\n      <td>Alicante</td>\n      <td>Alicante</td>\n      <td>Spain</td>\n      <td>ALC</td>\n      <td>LEAL</td>\n      <td>38.282169</td>\n      <td>-0.558156</td>\n      <td>142</td>\n      <td>1</td>\n      <td>E</td>\n      <td>Europe/Madrid</td>\n    </tr>\n    <tr>\n      <th>1191</th>\n      <td>1191</td>\n      <td>1213</td>\n      <td>Almeria</td>\n      <td>Almeria</td>\n      <td>Spain</td>\n      <td>LEI</td>\n      <td>LEAM</td>\n      <td>36.843936</td>\n      <td>-2.370097</td>\n      <td>70</td>\n      <td>1</td>\n      <td>E</td>\n      <td>Europe/Madrid</td>\n    </tr>\n    <tr>\n      <th>6316</th>\n      <td>6316</td>\n      <td>7742</td>\n      <td>Lanzarote Arrecife Cruise Terminal</td>\n      <td>Arrecife Lanzarote</td>\n      <td>Spain</td>\n      <td>None</td>\n      <td>NaN</td>\n      <td>28.967298</td>\n      <td>-13.527528</td>\n      <td>0</td>\n      <td>0</td>\n      <td>E</td>\n      <td>Atlantic/Canary</td>\n    </tr>\n    <tr>\n      <th>1192</th>\n      <td>1192</td>\n      <td>1214</td>\n      <td>Asturias</td>\n      <td>Aviles</td>\n      <td>Spain</td>\n      <td>OVD</td>\n      <td>LEAS</td>\n      <td>43.563567</td>\n      <td>-6.034622</td>\n      <td>416</td>\n      <td>1</td>\n      <td>E</td>\n      <td>Europe/Madrid</td>\n    </tr>\n    <tr>\n      <th>1196</th>\n      <td>1196</td>\n      <td>1219</td>\n      <td>Talavera La Real</td>\n      <td>Badajoz</td>\n      <td>Spain</td>\n      <td>BJZ</td>\n      <td>LEBZ</td>\n      <td>38.89125</td>\n      <td>-6.821333</td>\n      <td>609</td>\n      <td>1</td>\n      <td>E</td>\n      <td>Europe/Madrid</td>\n    </tr>\n    <tr>\n      <th>8061</th>\n      <td>8061</td>\n      <td>9496</td>\n      <td>Aeroport</td>\n      <td>Barcelona</td>\n      <td>Spain</td>\n      <td>None</td>\n      <td>ARPT</td>\n      <td>41.288436</td>\n      <td>2.072409</td>\n      <td>39</td>\n      <td>1</td>\n      <td>E</td>\n      <td>Europe/Madrid</td>\n    </tr>\n  </tbody>\n</table>\n</div>"
     },
     "metadata": {},
     "execution_count": 6
    }
   ],
   "source": [
    "#SQL select * from airports where country = 'Spain' order by city\n",
    "\n",
    "airports[airports.country == 'Spain'].sort_values('city')[:10]"
   ]
  },
  {
   "cell_type": "code",
   "execution_count": 7,
   "metadata": {
    "colab": {},
    "colab_type": "code",
    "id": "jl8tXjpAnWEL",
    "outputId": "32372504-3b02-4fd1-e2ce-87518ce8ed79"
   },
   "outputs": [
    {
     "output_type": "execute_result",
     "data": {
      "text/plain": [
       "      index    id                      name                    city country  \\\n",
       "1229   1229  1252               Zaragoza Ab                Zaragoza   Spain   \n",
       "1226   1226  1249                   Vitoria                 Vitoria   Spain   \n",
       "1227   1227  1250                      Vigo                    Vigo   Spain   \n",
       "6321   6321  7747      Vigo Cruise Terminal                    Vigo   Spain   \n",
       "1224   1224  1247                Valladolid              Valladolid   Spain   \n",
       "1223   1223  1246                  Valencia                Valencia   Spain   \n",
       "8058   8058  9493    Toledo Railway Station                  Toledo   Spain   \n",
       "1038   1038  1056              Tenerife Sur                Tenerife   Spain   \n",
       "1039   1039  1057            Tenerife Norte                Tenerife   Spain   \n",
       "6540   6540  7967                    Tarifa                  Tarifa   Spain   \n",
       "1216   1216  1239                 Son Bonet               Son Bonet   Spain   \n",
       "1230   1230  1253                   Sevilla                 Sevilla   Spain   \n",
       "1209   1209  1232                  Moron Ab                 Sevilla   Spain   \n",
       "8049   8049  9484               Santa Justa                 Sevilla   Spain   \n",
       "1221   1221  1244              Seo De Urgel            Seo De Urgel   Spain   \n",
       "7258   7258  8690     Fuentemilanos Airport                 Segovia   Spain   \n",
       "1220   1220  1243                  Santiago                Santiago   Spain   \n",
       "1228   1228  1251                 Santander               Santander   Spain   \n",
       "6317   6317  7743  Tenerife Cruise Terminal  Santa Cruz de Tenerife   Spain   \n",
       "1035   1035  1053                  La Palma  Santa Cruz De La Palma   Spain   \n",
       "\n",
       "      code  icao   latitude   longitude altitude offset dst         timezone  \n",
       "1229   ZAZ  LEZG  41.666242   -1.041553      863      1   E    Europe/Madrid  \n",
       "1226   VIT  LEVT  42.882836   -2.724469     1682      1   E    Europe/Madrid  \n",
       "1227   VGO  LEVX    42.2318   -8.626775      855      1   E    Europe/Madrid  \n",
       "6321  None   NaN  42.241537   -8.728799        0      1   E    Europe/Madrid  \n",
       "1224   VLL  LEVD  41.706111   -4.851944     2775      1   E    Europe/Madrid  \n",
       "1223   VLC  LEVC  39.489314   -0.481625      225      1   E    Europe/Madrid  \n",
       "8058  None  TLDO  39.862363   -4.011083     1736      1   E    Europe/Madrid  \n",
       "1038   TFS  GCTS  28.044475  -16.572489      209      0   E  Atlantic/Canary  \n",
       "1039   TFN  GCXO  28.482653  -16.341536     2073      0   E  Atlantic/Canary  \n",
       "6540  None   NaN  36.070781   -5.602764       20      1   E    Europe/Madrid  \n",
       "1216  None  LESB  39.598889    2.702778      135      1   E    Europe/Madrid  \n",
       "1230   SVQ  LEZL     37.418   -5.893106      111      1   E    Europe/Madrid  \n",
       "1209   OZP  LEMO  37.174917   -5.615944      285      1   E    Europe/Madrid  \n",
       "8049  None  SVSJ  37.392051   -5.975135       23      1   E    Europe/Madrid  \n",
       "1221   LEU  LESU  42.338611    1.409167     2625      1   E    Europe/Madrid  \n",
       "7258  None  LEFM  40.889233   -4.239478     3284      1   E    Europe/Madrid  \n",
       "1220   SCQ  LEST  42.896333   -8.415144     1213      1   E    Europe/Madrid  \n",
       "1228   SDR  LEXJ  43.427064   -3.820006       16      1   E    Europe/Madrid  \n",
       "6317  None   NaN  28.470068  -16.242471        0      0   E  Atlantic/Canary  \n",
       "1035   SPC  GCLA  28.626478  -17.755611      107      0   E  Atlantic/Canary  "
      ],
      "text/html": "<div>\n<style scoped>\n    .dataframe tbody tr th:only-of-type {\n        vertical-align: middle;\n    }\n\n    .dataframe tbody tr th {\n        vertical-align: top;\n    }\n\n    .dataframe thead th {\n        text-align: right;\n    }\n</style>\n<table border=\"1\" class=\"dataframe\">\n  <thead>\n    <tr style=\"text-align: right;\">\n      <th></th>\n      <th>index</th>\n      <th>id</th>\n      <th>name</th>\n      <th>city</th>\n      <th>country</th>\n      <th>code</th>\n      <th>icao</th>\n      <th>latitude</th>\n      <th>longitude</th>\n      <th>altitude</th>\n      <th>offset</th>\n      <th>dst</th>\n      <th>timezone</th>\n    </tr>\n  </thead>\n  <tbody>\n    <tr>\n      <th>1229</th>\n      <td>1229</td>\n      <td>1252</td>\n      <td>Zaragoza Ab</td>\n      <td>Zaragoza</td>\n      <td>Spain</td>\n      <td>ZAZ</td>\n      <td>LEZG</td>\n      <td>41.666242</td>\n      <td>-1.041553</td>\n      <td>863</td>\n      <td>1</td>\n      <td>E</td>\n      <td>Europe/Madrid</td>\n    </tr>\n    <tr>\n      <th>1226</th>\n      <td>1226</td>\n      <td>1249</td>\n      <td>Vitoria</td>\n      <td>Vitoria</td>\n      <td>Spain</td>\n      <td>VIT</td>\n      <td>LEVT</td>\n      <td>42.882836</td>\n      <td>-2.724469</td>\n      <td>1682</td>\n      <td>1</td>\n      <td>E</td>\n      <td>Europe/Madrid</td>\n    </tr>\n    <tr>\n      <th>1227</th>\n      <td>1227</td>\n      <td>1250</td>\n      <td>Vigo</td>\n      <td>Vigo</td>\n      <td>Spain</td>\n      <td>VGO</td>\n      <td>LEVX</td>\n      <td>42.2318</td>\n      <td>-8.626775</td>\n      <td>855</td>\n      <td>1</td>\n      <td>E</td>\n      <td>Europe/Madrid</td>\n    </tr>\n    <tr>\n      <th>6321</th>\n      <td>6321</td>\n      <td>7747</td>\n      <td>Vigo Cruise Terminal</td>\n      <td>Vigo</td>\n      <td>Spain</td>\n      <td>None</td>\n      <td>NaN</td>\n      <td>42.241537</td>\n      <td>-8.728799</td>\n      <td>0</td>\n      <td>1</td>\n      <td>E</td>\n      <td>Europe/Madrid</td>\n    </tr>\n    <tr>\n      <th>1224</th>\n      <td>1224</td>\n      <td>1247</td>\n      <td>Valladolid</td>\n      <td>Valladolid</td>\n      <td>Spain</td>\n      <td>VLL</td>\n      <td>LEVD</td>\n      <td>41.706111</td>\n      <td>-4.851944</td>\n      <td>2775</td>\n      <td>1</td>\n      <td>E</td>\n      <td>Europe/Madrid</td>\n    </tr>\n    <tr>\n      <th>1223</th>\n      <td>1223</td>\n      <td>1246</td>\n      <td>Valencia</td>\n      <td>Valencia</td>\n      <td>Spain</td>\n      <td>VLC</td>\n      <td>LEVC</td>\n      <td>39.489314</td>\n      <td>-0.481625</td>\n      <td>225</td>\n      <td>1</td>\n      <td>E</td>\n      <td>Europe/Madrid</td>\n    </tr>\n    <tr>\n      <th>8058</th>\n      <td>8058</td>\n      <td>9493</td>\n      <td>Toledo Railway Station</td>\n      <td>Toledo</td>\n      <td>Spain</td>\n      <td>None</td>\n      <td>TLDO</td>\n      <td>39.862363</td>\n      <td>-4.011083</td>\n      <td>1736</td>\n      <td>1</td>\n      <td>E</td>\n      <td>Europe/Madrid</td>\n    </tr>\n    <tr>\n      <th>1038</th>\n      <td>1038</td>\n      <td>1056</td>\n      <td>Tenerife Sur</td>\n      <td>Tenerife</td>\n      <td>Spain</td>\n      <td>TFS</td>\n      <td>GCTS</td>\n      <td>28.044475</td>\n      <td>-16.572489</td>\n      <td>209</td>\n      <td>0</td>\n      <td>E</td>\n      <td>Atlantic/Canary</td>\n    </tr>\n    <tr>\n      <th>1039</th>\n      <td>1039</td>\n      <td>1057</td>\n      <td>Tenerife Norte</td>\n      <td>Tenerife</td>\n      <td>Spain</td>\n      <td>TFN</td>\n      <td>GCXO</td>\n      <td>28.482653</td>\n      <td>-16.341536</td>\n      <td>2073</td>\n      <td>0</td>\n      <td>E</td>\n      <td>Atlantic/Canary</td>\n    </tr>\n    <tr>\n      <th>6540</th>\n      <td>6540</td>\n      <td>7967</td>\n      <td>Tarifa</td>\n      <td>Tarifa</td>\n      <td>Spain</td>\n      <td>None</td>\n      <td>NaN</td>\n      <td>36.070781</td>\n      <td>-5.602764</td>\n      <td>20</td>\n      <td>1</td>\n      <td>E</td>\n      <td>Europe/Madrid</td>\n    </tr>\n    <tr>\n      <th>1216</th>\n      <td>1216</td>\n      <td>1239</td>\n      <td>Son Bonet</td>\n      <td>Son Bonet</td>\n      <td>Spain</td>\n      <td>None</td>\n      <td>LESB</td>\n      <td>39.598889</td>\n      <td>2.702778</td>\n      <td>135</td>\n      <td>1</td>\n      <td>E</td>\n      <td>Europe/Madrid</td>\n    </tr>\n    <tr>\n      <th>1230</th>\n      <td>1230</td>\n      <td>1253</td>\n      <td>Sevilla</td>\n      <td>Sevilla</td>\n      <td>Spain</td>\n      <td>SVQ</td>\n      <td>LEZL</td>\n      <td>37.418</td>\n      <td>-5.893106</td>\n      <td>111</td>\n      <td>1</td>\n      <td>E</td>\n      <td>Europe/Madrid</td>\n    </tr>\n    <tr>\n      <th>1209</th>\n      <td>1209</td>\n      <td>1232</td>\n      <td>Moron Ab</td>\n      <td>Sevilla</td>\n      <td>Spain</td>\n      <td>OZP</td>\n      <td>LEMO</td>\n      <td>37.174917</td>\n      <td>-5.615944</td>\n      <td>285</td>\n      <td>1</td>\n      <td>E</td>\n      <td>Europe/Madrid</td>\n    </tr>\n    <tr>\n      <th>8049</th>\n      <td>8049</td>\n      <td>9484</td>\n      <td>Santa Justa</td>\n      <td>Sevilla</td>\n      <td>Spain</td>\n      <td>None</td>\n      <td>SVSJ</td>\n      <td>37.392051</td>\n      <td>-5.975135</td>\n      <td>23</td>\n      <td>1</td>\n      <td>E</td>\n      <td>Europe/Madrid</td>\n    </tr>\n    <tr>\n      <th>1221</th>\n      <td>1221</td>\n      <td>1244</td>\n      <td>Seo De Urgel</td>\n      <td>Seo De Urgel</td>\n      <td>Spain</td>\n      <td>LEU</td>\n      <td>LESU</td>\n      <td>42.338611</td>\n      <td>1.409167</td>\n      <td>2625</td>\n      <td>1</td>\n      <td>E</td>\n      <td>Europe/Madrid</td>\n    </tr>\n    <tr>\n      <th>7258</th>\n      <td>7258</td>\n      <td>8690</td>\n      <td>Fuentemilanos Airport</td>\n      <td>Segovia</td>\n      <td>Spain</td>\n      <td>None</td>\n      <td>LEFM</td>\n      <td>40.889233</td>\n      <td>-4.239478</td>\n      <td>3284</td>\n      <td>1</td>\n      <td>E</td>\n      <td>Europe/Madrid</td>\n    </tr>\n    <tr>\n      <th>1220</th>\n      <td>1220</td>\n      <td>1243</td>\n      <td>Santiago</td>\n      <td>Santiago</td>\n      <td>Spain</td>\n      <td>SCQ</td>\n      <td>LEST</td>\n      <td>42.896333</td>\n      <td>-8.415144</td>\n      <td>1213</td>\n      <td>1</td>\n      <td>E</td>\n      <td>Europe/Madrid</td>\n    </tr>\n    <tr>\n      <th>1228</th>\n      <td>1228</td>\n      <td>1251</td>\n      <td>Santander</td>\n      <td>Santander</td>\n      <td>Spain</td>\n      <td>SDR</td>\n      <td>LEXJ</td>\n      <td>43.427064</td>\n      <td>-3.820006</td>\n      <td>16</td>\n      <td>1</td>\n      <td>E</td>\n      <td>Europe/Madrid</td>\n    </tr>\n    <tr>\n      <th>6317</th>\n      <td>6317</td>\n      <td>7743</td>\n      <td>Tenerife Cruise Terminal</td>\n      <td>Santa Cruz de Tenerife</td>\n      <td>Spain</td>\n      <td>None</td>\n      <td>NaN</td>\n      <td>28.470068</td>\n      <td>-16.242471</td>\n      <td>0</td>\n      <td>0</td>\n      <td>E</td>\n      <td>Atlantic/Canary</td>\n    </tr>\n    <tr>\n      <th>1035</th>\n      <td>1035</td>\n      <td>1053</td>\n      <td>La Palma</td>\n      <td>Santa Cruz De La Palma</td>\n      <td>Spain</td>\n      <td>SPC</td>\n      <td>GCLA</td>\n      <td>28.626478</td>\n      <td>-17.755611</td>\n      <td>107</td>\n      <td>0</td>\n      <td>E</td>\n      <td>Atlantic/Canary</td>\n    </tr>\n  </tbody>\n</table>\n</div>"
     },
     "metadata": {},
     "execution_count": 7
    }
   ],
   "source": [
    "#SQL select * from airports where country = 'Spain' order by city type desc\n",
    "\n",
    "airports[airports.country == 'Spain'].sort_values('city', ascending=False)[:20]"
   ]
  },
  {
   "cell_type": "markdown",
   "metadata": {
    "colab_type": "text",
    "id": "yjM-brPGnWEU"
   },
   "source": [
    "**IN o NOT IN**"
   ]
  },
  {
   "cell_type": "code",
   "execution_count": 8,
   "metadata": {
    "colab": {},
    "colab_type": "code",
    "id": "0cgKQ3-InWEW",
    "outputId": "da67c4d8-38bb-4b8b-bd41-283f5270f5b6"
   },
   "outputs": [
    {
     "output_type": "execute_result",
     "data": {
      "text/plain": [
       "      index    id            name       city country code  icao   latitude  \\\n",
       "1038   1038  1056    Tenerife Sur   Tenerife   Spain  TFS  GCTS  28.044475   \n",
       "1039   1039  1057  Tenerife Norte   Tenerife   Spain  TFN  GCXO  28.482653   \n",
       "1228   1228  1251       Santander  Santander   Spain  SDR  LEXJ  43.427064   \n",
       "\n",
       "       longitude altitude offset dst         timezone  \n",
       "1038  -16.572489      209      0   E  Atlantic/Canary  \n",
       "1039  -16.341536     2073      0   E  Atlantic/Canary  \n",
       "1228   -3.820006       16      1   E    Europe/Madrid  "
      ],
      "text/html": "<div>\n<style scoped>\n    .dataframe tbody tr th:only-of-type {\n        vertical-align: middle;\n    }\n\n    .dataframe tbody tr th {\n        vertical-align: top;\n    }\n\n    .dataframe thead th {\n        text-align: right;\n    }\n</style>\n<table border=\"1\" class=\"dataframe\">\n  <thead>\n    <tr style=\"text-align: right;\">\n      <th></th>\n      <th>index</th>\n      <th>id</th>\n      <th>name</th>\n      <th>city</th>\n      <th>country</th>\n      <th>code</th>\n      <th>icao</th>\n      <th>latitude</th>\n      <th>longitude</th>\n      <th>altitude</th>\n      <th>offset</th>\n      <th>dst</th>\n      <th>timezone</th>\n    </tr>\n  </thead>\n  <tbody>\n    <tr>\n      <th>1038</th>\n      <td>1038</td>\n      <td>1056</td>\n      <td>Tenerife Sur</td>\n      <td>Tenerife</td>\n      <td>Spain</td>\n      <td>TFS</td>\n      <td>GCTS</td>\n      <td>28.044475</td>\n      <td>-16.572489</td>\n      <td>209</td>\n      <td>0</td>\n      <td>E</td>\n      <td>Atlantic/Canary</td>\n    </tr>\n    <tr>\n      <th>1039</th>\n      <td>1039</td>\n      <td>1057</td>\n      <td>Tenerife Norte</td>\n      <td>Tenerife</td>\n      <td>Spain</td>\n      <td>TFN</td>\n      <td>GCXO</td>\n      <td>28.482653</td>\n      <td>-16.341536</td>\n      <td>2073</td>\n      <td>0</td>\n      <td>E</td>\n      <td>Atlantic/Canary</td>\n    </tr>\n    <tr>\n      <th>1228</th>\n      <td>1228</td>\n      <td>1251</td>\n      <td>Santander</td>\n      <td>Santander</td>\n      <td>Spain</td>\n      <td>SDR</td>\n      <td>LEXJ</td>\n      <td>43.427064</td>\n      <td>-3.820006</td>\n      <td>16</td>\n      <td>1</td>\n      <td>E</td>\n      <td>Europe/Madrid</td>\n    </tr>\n  </tbody>\n</table>\n</div>"
     },
     "metadata": {},
     "execution_count": 8
    }
   ],
   "source": [
    "#SQL select * from airports where city in ('Santander', 'Tenerife')\n",
    "\n",
    "airports[airports.city.isin(['Santander', 'Tenerife'])]"
   ]
  },
  {
   "cell_type": "code",
   "execution_count": 9,
   "metadata": {
    "colab": {},
    "colab_type": "code",
    "id": "6InR9ZW3nWEc",
    "outputId": "d31a2e82-5adb-4608-e148-670350a0cf83"
   },
   "outputs": [
    {
     "output_type": "execute_result",
     "data": {
      "text/plain": [
       "      index    id                               name             city  \\\n",
       "0         0     1                             Goroka           Goroka   \n",
       "1         1     2                             Madang           Madang   \n",
       "2         2     3                        Mount Hagen      Mount Hagen   \n",
       "3         3     4                             Nadzab           Nadzab   \n",
       "4         4     5         Port Moresby Jacksons Intl     Port Moresby   \n",
       "...     ...   ...                                ...              ...   \n",
       "8102   8102  9537    Mansons Landing Water Aerodrome  Mansons Landing   \n",
       "8103   8103  9538               Port McNeill Airport     Port McNeill   \n",
       "8104   8104  9539       Sullivan Bay Water Aerodrome     Sullivan Bay   \n",
       "8105   8105  9540               Deer Harbor Seaplane      Deer Harbor   \n",
       "8106   8106  9541  San Diego Old Town Transit Center        San Diego   \n",
       "\n",
       "               country code  icao   latitude    longitude altitude offset dst  \\\n",
       "0     Papua New Guinea  GKA  AYGA  -6.081689   145.391881     5282     10   U   \n",
       "1     Papua New Guinea  MAG  AYMD  -5.207083     145.7887       20     10   U   \n",
       "2     Papua New Guinea  HGU  AYMH  -5.826789   144.295861     5388     10   U   \n",
       "3     Papua New Guinea  LAE  AYNZ  -6.569828   146.726242      239     10   U   \n",
       "4     Papua New Guinea  POM  AYPY  -9.443383    147.22005      146     10   U   \n",
       "...                ...  ...   ...        ...          ...      ...    ...  ..   \n",
       "8102            Canada  YMU   NaN  50.066667  -124.983333        0     -8   A   \n",
       "8103            Canada  YMP   NaN  50.575556  -127.028611      225     -8   A   \n",
       "8104            Canada  YTG   NaN  50.883333  -126.833333        0     -8   A   \n",
       "8105     United States  DHB   NaN  48.618397   -123.00596        0     -8   A   \n",
       "8106     United States  OLT   NaN    32.7552    -117.1995        0     -8   A   \n",
       "\n",
       "                  timezone  \n",
       "0     Pacific/Port_Moresby  \n",
       "1     Pacific/Port_Moresby  \n",
       "2     Pacific/Port_Moresby  \n",
       "3     Pacific/Port_Moresby  \n",
       "4     Pacific/Port_Moresby  \n",
       "...                    ...  \n",
       "8102     America/Vancouver  \n",
       "8103     America/Vancouver  \n",
       "8104     America/Vancouver  \n",
       "8105   America/Los_Angeles  \n",
       "8106   America/Los_Angeles  \n",
       "\n",
       "[8104 rows x 13 columns]"
      ],
      "text/html": "<div>\n<style scoped>\n    .dataframe tbody tr th:only-of-type {\n        vertical-align: middle;\n    }\n\n    .dataframe tbody tr th {\n        vertical-align: top;\n    }\n\n    .dataframe thead th {\n        text-align: right;\n    }\n</style>\n<table border=\"1\" class=\"dataframe\">\n  <thead>\n    <tr style=\"text-align: right;\">\n      <th></th>\n      <th>index</th>\n      <th>id</th>\n      <th>name</th>\n      <th>city</th>\n      <th>country</th>\n      <th>code</th>\n      <th>icao</th>\n      <th>latitude</th>\n      <th>longitude</th>\n      <th>altitude</th>\n      <th>offset</th>\n      <th>dst</th>\n      <th>timezone</th>\n    </tr>\n  </thead>\n  <tbody>\n    <tr>\n      <th>0</th>\n      <td>0</td>\n      <td>1</td>\n      <td>Goroka</td>\n      <td>Goroka</td>\n      <td>Papua New Guinea</td>\n      <td>GKA</td>\n      <td>AYGA</td>\n      <td>-6.081689</td>\n      <td>145.391881</td>\n      <td>5282</td>\n      <td>10</td>\n      <td>U</td>\n      <td>Pacific/Port_Moresby</td>\n    </tr>\n    <tr>\n      <th>1</th>\n      <td>1</td>\n      <td>2</td>\n      <td>Madang</td>\n      <td>Madang</td>\n      <td>Papua New Guinea</td>\n      <td>MAG</td>\n      <td>AYMD</td>\n      <td>-5.207083</td>\n      <td>145.7887</td>\n      <td>20</td>\n      <td>10</td>\n      <td>U</td>\n      <td>Pacific/Port_Moresby</td>\n    </tr>\n    <tr>\n      <th>2</th>\n      <td>2</td>\n      <td>3</td>\n      <td>Mount Hagen</td>\n      <td>Mount Hagen</td>\n      <td>Papua New Guinea</td>\n      <td>HGU</td>\n      <td>AYMH</td>\n      <td>-5.826789</td>\n      <td>144.295861</td>\n      <td>5388</td>\n      <td>10</td>\n      <td>U</td>\n      <td>Pacific/Port_Moresby</td>\n    </tr>\n    <tr>\n      <th>3</th>\n      <td>3</td>\n      <td>4</td>\n      <td>Nadzab</td>\n      <td>Nadzab</td>\n      <td>Papua New Guinea</td>\n      <td>LAE</td>\n      <td>AYNZ</td>\n      <td>-6.569828</td>\n      <td>146.726242</td>\n      <td>239</td>\n      <td>10</td>\n      <td>U</td>\n      <td>Pacific/Port_Moresby</td>\n    </tr>\n    <tr>\n      <th>4</th>\n      <td>4</td>\n      <td>5</td>\n      <td>Port Moresby Jacksons Intl</td>\n      <td>Port Moresby</td>\n      <td>Papua New Guinea</td>\n      <td>POM</td>\n      <td>AYPY</td>\n      <td>-9.443383</td>\n      <td>147.22005</td>\n      <td>146</td>\n      <td>10</td>\n      <td>U</td>\n      <td>Pacific/Port_Moresby</td>\n    </tr>\n    <tr>\n      <th>...</th>\n      <td>...</td>\n      <td>...</td>\n      <td>...</td>\n      <td>...</td>\n      <td>...</td>\n      <td>...</td>\n      <td>...</td>\n      <td>...</td>\n      <td>...</td>\n      <td>...</td>\n      <td>...</td>\n      <td>...</td>\n      <td>...</td>\n    </tr>\n    <tr>\n      <th>8102</th>\n      <td>8102</td>\n      <td>9537</td>\n      <td>Mansons Landing Water Aerodrome</td>\n      <td>Mansons Landing</td>\n      <td>Canada</td>\n      <td>YMU</td>\n      <td>NaN</td>\n      <td>50.066667</td>\n      <td>-124.983333</td>\n      <td>0</td>\n      <td>-8</td>\n      <td>A</td>\n      <td>America/Vancouver</td>\n    </tr>\n    <tr>\n      <th>8103</th>\n      <td>8103</td>\n      <td>9538</td>\n      <td>Port McNeill Airport</td>\n      <td>Port McNeill</td>\n      <td>Canada</td>\n      <td>YMP</td>\n      <td>NaN</td>\n      <td>50.575556</td>\n      <td>-127.028611</td>\n      <td>225</td>\n      <td>-8</td>\n      <td>A</td>\n      <td>America/Vancouver</td>\n    </tr>\n    <tr>\n      <th>8104</th>\n      <td>8104</td>\n      <td>9539</td>\n      <td>Sullivan Bay Water Aerodrome</td>\n      <td>Sullivan Bay</td>\n      <td>Canada</td>\n      <td>YTG</td>\n      <td>NaN</td>\n      <td>50.883333</td>\n      <td>-126.833333</td>\n      <td>0</td>\n      <td>-8</td>\n      <td>A</td>\n      <td>America/Vancouver</td>\n    </tr>\n    <tr>\n      <th>8105</th>\n      <td>8105</td>\n      <td>9540</td>\n      <td>Deer Harbor Seaplane</td>\n      <td>Deer Harbor</td>\n      <td>United States</td>\n      <td>DHB</td>\n      <td>NaN</td>\n      <td>48.618397</td>\n      <td>-123.00596</td>\n      <td>0</td>\n      <td>-8</td>\n      <td>A</td>\n      <td>America/Los_Angeles</td>\n    </tr>\n    <tr>\n      <th>8106</th>\n      <td>8106</td>\n      <td>9541</td>\n      <td>San Diego Old Town Transit Center</td>\n      <td>San Diego</td>\n      <td>United States</td>\n      <td>OLT</td>\n      <td>NaN</td>\n      <td>32.7552</td>\n      <td>-117.1995</td>\n      <td>0</td>\n      <td>-8</td>\n      <td>A</td>\n      <td>America/Los_Angeles</td>\n    </tr>\n  </tbody>\n</table>\n<p>8104 rows × 13 columns</p>\n</div>"
     },
     "metadata": {},
     "execution_count": 9
    }
   ],
   "source": [
    "#SQL select * from airports where city not in ('Santander', 'Tenerife')\n",
    "\n",
    "airports[~airports.city.isin(['Santander', 'Tenerife'])]"
   ]
  },
  {
   "cell_type": "markdown",
   "metadata": {
    "colab_type": "text",
    "id": "AMPkmvZCnWEl"
   },
   "source": [
    "**GROUP BY, COUNT, ORDER BY**"
   ]
  },
  {
   "cell_type": "code",
   "execution_count": 10,
   "metadata": {
    "colab": {},
    "colab_type": "code",
    "id": "Cf6C50GnnWEo",
    "outputId": "2daf4f84-9d6c-417d-c68b-735655690789"
   },
   "outputs": [
    {
     "output_type": "execute_result",
     "data": {
      "text/plain": [
       "country         timezone         \n",
       "Afghanistan     Asia/Kabul           21\n",
       "Albania         Europe/Tirane         1\n",
       "Algeria         Africa/Algiers       44\n",
       "American Samoa  Pacific/Pago_Pago     3\n",
       "Angola          Africa/Luanda        25\n",
       "                                     ..\n",
       "West Bank       Asia/Gaza             1\n",
       "Western Sahara  Africa/El_Aaiun       3\n",
       "Yemen           Asia/Aden            11\n",
       "Zambia          Africa/Lusaka        13\n",
       "Zimbabwe        Africa/Harare        16\n",
       "Length: 326, dtype: int64"
      ]
     },
     "metadata": {},
     "execution_count": 10
    }
   ],
   "source": [
    "#SQL select country, timezone, count(*) from airports group by country, timezone order by country, timezone\n",
    "\n",
    "airports.groupby(['country', 'timezone']).size()"
   ]
  },
  {
   "cell_type": "markdown",
   "metadata": {
    "colab_type": "text",
    "id": "U2YzgX_Q0NUB"
   },
   "source": [
    "En Pandas .count() devuelve el número de non-null/NaN values para obtener el mismo resultado que SQL COUNT se debe usar .size()."
   ]
  },
  {
   "cell_type": "code",
   "execution_count": 11,
   "metadata": {
    "colab": {},
    "colab_type": "code",
    "id": "EmNtTe0GnWEv",
    "outputId": "7d8306ab-9903-4b1b-f6d0-654156904fe7"
   },
   "outputs": [
    {
     "output_type": "execute_result",
     "data": {
      "text/plain": [
       "            country           timezone  size\n",
       "0       Afghanistan         Asia/Kabul    21\n",
       "1           Albania      Europe/Tirane     1\n",
       "2           Algeria     Africa/Algiers    44\n",
       "3    American Samoa  Pacific/Pago_Pago     3\n",
       "4            Angola      Africa/Luanda    25\n",
       "..              ...                ...   ...\n",
       "321       West Bank          Asia/Gaza     1\n",
       "322  Western Sahara    Africa/El_Aaiun     3\n",
       "323           Yemen          Asia/Aden    11\n",
       "324          Zambia      Africa/Lusaka    13\n",
       "325        Zimbabwe      Africa/Harare    16\n",
       "\n",
       "[326 rows x 3 columns]"
      ],
      "text/html": "<div>\n<style scoped>\n    .dataframe tbody tr th:only-of-type {\n        vertical-align: middle;\n    }\n\n    .dataframe tbody tr th {\n        vertical-align: top;\n    }\n\n    .dataframe thead th {\n        text-align: right;\n    }\n</style>\n<table border=\"1\" class=\"dataframe\">\n  <thead>\n    <tr style=\"text-align: right;\">\n      <th></th>\n      <th>country</th>\n      <th>timezone</th>\n      <th>size</th>\n    </tr>\n  </thead>\n  <tbody>\n    <tr>\n      <th>0</th>\n      <td>Afghanistan</td>\n      <td>Asia/Kabul</td>\n      <td>21</td>\n    </tr>\n    <tr>\n      <th>1</th>\n      <td>Albania</td>\n      <td>Europe/Tirane</td>\n      <td>1</td>\n    </tr>\n    <tr>\n      <th>2</th>\n      <td>Algeria</td>\n      <td>Africa/Algiers</td>\n      <td>44</td>\n    </tr>\n    <tr>\n      <th>3</th>\n      <td>American Samoa</td>\n      <td>Pacific/Pago_Pago</td>\n      <td>3</td>\n    </tr>\n    <tr>\n      <th>4</th>\n      <td>Angola</td>\n      <td>Africa/Luanda</td>\n      <td>25</td>\n    </tr>\n    <tr>\n      <th>...</th>\n      <td>...</td>\n      <td>...</td>\n      <td>...</td>\n    </tr>\n    <tr>\n      <th>321</th>\n      <td>West Bank</td>\n      <td>Asia/Gaza</td>\n      <td>1</td>\n    </tr>\n    <tr>\n      <th>322</th>\n      <td>Western Sahara</td>\n      <td>Africa/El_Aaiun</td>\n      <td>3</td>\n    </tr>\n    <tr>\n      <th>323</th>\n      <td>Yemen</td>\n      <td>Asia/Aden</td>\n      <td>11</td>\n    </tr>\n    <tr>\n      <th>324</th>\n      <td>Zambia</td>\n      <td>Africa/Lusaka</td>\n      <td>13</td>\n    </tr>\n    <tr>\n      <th>325</th>\n      <td>Zimbabwe</td>\n      <td>Africa/Harare</td>\n      <td>16</td>\n    </tr>\n  </tbody>\n</table>\n<p>326 rows × 3 columns</p>\n</div>"
     },
     "metadata": {},
     "execution_count": 11
    }
   ],
   "source": [
    "# SQL select country, timezonte, count(*) from airports group by country, type order by country, count(*) desc\n",
    "\n",
    "airports.groupby(['country', 'timezone']).size().to_frame('size').reset_index().sort_values(['country', 'size'], ascending=[True, False])"
   ]
  },
  {
   "cell_type": "markdown",
   "metadata": {
    "colab_type": "text",
    "id": "shiG4jWpnWE2"
   },
   "source": [
    "**HAVING**"
   ]
  },
  {
   "cell_type": "code",
   "execution_count": 12,
   "metadata": {
    "colab": {},
    "colab_type": "code",
    "id": "uQwNtUyKnWE4",
    "outputId": "2e016c9e-fedc-4b4a-adcd-964582051b9b"
   },
   "outputs": [
    {
     "output_type": "execute_result",
     "data": {
      "text/plain": [
       "city\n",
       "New York        13\n",
       "Seattle          9\n",
       "Chicago          9\n",
       "San Diego        8\n",
       "Philadelphia     6\n",
       "Houston          6\n",
       "dtype: int64"
      ]
     },
     "metadata": {},
     "execution_count": 12
    }
   ],
   "source": [
    "#SQL select country, count(*) from airports where country = 'United States' group by having count(*) > 5 order by count(*) desc\n",
    "\n",
    "airports[airports.country == 'United States'].groupby('city').filter(lambda g: len(g) > 5).groupby('city').size().sort_values(ascending=False)"
   ]
  },
  {
   "cell_type": "code",
   "execution_count": 13,
   "metadata": {
    "colab": {},
    "colab_type": "code",
    "id": "-jNDnwAR0NUi",
    "outputId": "be293607-42e2-49fc-dfc5-a9fad2630883"
   },
   "outputs": [
    {
     "output_type": "execute_result",
     "data": {
      "text/plain": [
       "[1, 3, 5, 6, 7]"
      ]
     },
     "metadata": {},
     "execution_count": 13
    }
   ],
   "source": [
    "vector = [0, 1, -1, -2, 3, -4, 5, 6, 7]\n",
    "list(filter(lambda x: x > 0, vector))"
   ]
  },
  {
   "cell_type": "markdown",
   "metadata": {
    "colab_type": "text",
    "id": "EjS4R6qEnWE8"
   },
   "source": [
    "**Funciones MIN, MAX, MEDIAN**"
   ]
  },
  {
   "cell_type": "code",
   "execution_count": 14,
   "metadata": {
    "colab": {},
    "colab_type": "code",
    "id": "sHt8NSNQnWFD",
    "outputId": "1ea2f9a9-0a5a-4b1c-87ca-fbb8380077b0"
   },
   "outputs": [
    {
     "output_type": "execute_result",
     "data": {
      "text/plain": [
       "          min  max median\n",
       "altitude  -11  999    272"
      ],
      "text/html": "<div>\n<style scoped>\n    .dataframe tbody tr th:only-of-type {\n        vertical-align: middle;\n    }\n\n    .dataframe tbody tr th {\n        vertical-align: top;\n    }\n\n    .dataframe thead th {\n        text-align: right;\n    }\n</style>\n<table border=\"1\" class=\"dataframe\">\n  <thead>\n    <tr style=\"text-align: right;\">\n      <th></th>\n      <th>min</th>\n      <th>max</th>\n      <th>median</th>\n    </tr>\n  </thead>\n  <tbody>\n    <tr>\n      <th>altitude</th>\n      <td>-11</td>\n      <td>999</td>\n      <td>272</td>\n    </tr>\n  </tbody>\n</table>\n</div>"
     },
     "metadata": {},
     "execution_count": 14
    }
   ],
   "source": [
    "#SQL select max(altitude), min(altitude), median(altitude) from airports\n",
    "\n",
    "airports.agg({'altitude': ['min', 'max', 'median']}).T"
   ]
  },
  {
   "cell_type": "markdown",
   "metadata": {
    "colab_type": "text",
    "id": "arXFXXY2nWFP"
   },
   "source": [
    "**JOIN**"
   ]
  },
  {
   "cell_type": "code",
   "execution_count": 15,
   "metadata": {
    "colab_type": "text",
    "id": "Gl-bMlC9rSik"
   },
   "outputs": [
    {
     "output_type": "execute_result",
     "data": {
      "text/plain": [
       "    source dest\n",
       "0      ACE  BIO\n",
       "1      ACE  MAD\n",
       "2      ACE  OVD\n",
       "3      ACE  SCQ\n",
       "4      AGP  CDG\n",
       "..     ...  ...\n",
       "153    VLC  MAD\n",
       "154    VLC  PMI\n",
       "155    VLL  PMI\n",
       "156    VVI  MAD\n",
       "157    ZAZ  PMI\n",
       "\n",
       "[158 rows x 2 columns]"
      ],
      "text/html": "<div>\n<style scoped>\n    .dataframe tbody tr th:only-of-type {\n        vertical-align: middle;\n    }\n\n    .dataframe tbody tr th {\n        vertical-align: top;\n    }\n\n    .dataframe thead th {\n        text-align: right;\n    }\n</style>\n<table border=\"1\" class=\"dataframe\">\n  <thead>\n    <tr style=\"text-align: right;\">\n      <th></th>\n      <th>source</th>\n      <th>dest</th>\n    </tr>\n  </thead>\n  <tbody>\n    <tr>\n      <th>0</th>\n      <td>ACE</td>\n      <td>BIO</td>\n    </tr>\n    <tr>\n      <th>1</th>\n      <td>ACE</td>\n      <td>MAD</td>\n    </tr>\n    <tr>\n      <th>2</th>\n      <td>ACE</td>\n      <td>OVD</td>\n    </tr>\n    <tr>\n      <th>3</th>\n      <td>ACE</td>\n      <td>SCQ</td>\n    </tr>\n    <tr>\n      <th>4</th>\n      <td>AGP</td>\n      <td>CDG</td>\n    </tr>\n    <tr>\n      <th>...</th>\n      <td>...</td>\n      <td>...</td>\n    </tr>\n    <tr>\n      <th>153</th>\n      <td>VLC</td>\n      <td>MAD</td>\n    </tr>\n    <tr>\n      <th>154</th>\n      <td>VLC</td>\n      <td>PMI</td>\n    </tr>\n    <tr>\n      <th>155</th>\n      <td>VLL</td>\n      <td>PMI</td>\n    </tr>\n    <tr>\n      <th>156</th>\n      <td>VVI</td>\n      <td>MAD</td>\n    </tr>\n    <tr>\n      <th>157</th>\n      <td>ZAZ</td>\n      <td>PMI</td>\n    </tr>\n  </tbody>\n</table>\n<p>158 rows × 2 columns</p>\n</div>"
     },
     "metadata": {},
     "execution_count": 15
    }
   ],
   "source": [
    "#SQL select source, dest from routes join airlines on routes.airline_id = airlines.id where airlines.name = 'Air Europa'\n",
    "\n",
    "routes.merge(airlines[airlines.name == 'Air Europa'][['id']], left_on='airline_id', right_on='id', how='inner')[['source', 'dest']]"
   ]
  },
  {
   "cell_type": "markdown",
   "metadata": {
    "colab_type": "text",
    "id": "iiW7Kef10NVC"
   },
   "source": [
    "**CREATE**"
   ]
  },
  {
   "cell_type": "code",
   "execution_count": 16,
   "metadata": {
    "colab": {},
    "colab_type": "code",
    "id": "OCxk3xCt0NVF"
   },
   "outputs": [],
   "source": [
    "from datetime import datetime\n",
    "\n",
    "daily_flights = pd.DataFrame([[\n",
    "    1, \n",
    "    datetime(2016, 9, 29, 0, 0),\n",
    "    datetime(2016, 9, 29, 12, 0), \n",
    "    'T1', \n",
    "    1]],\n",
    "    columns=[\"id\", \"departure\", \"arrival\", \"number\", \"route_id\"])\n",
    "\n",
    "daily_flights.to_sql(\"daily_flights\", db, if_exists=\"replace\")"
   ]
  },
  {
   "cell_type": "code",
   "execution_count": 17,
   "metadata": {
    "colab": {},
    "colab_type": "code",
    "id": "C1DmWp880NVM",
    "outputId": "44fb6e6f-ec07-4204-bd7b-4d2180ecb087"
   },
   "outputs": [
    {
     "output_type": "execute_result",
     "data": {
      "text/plain": [
       "   index  id            departure              arrival number  route_id\n",
       "0      0   1  2016-09-29 00:00:00  2016-09-29 12:00:00     T1         1"
      ],
      "text/html": "<div>\n<style scoped>\n    .dataframe tbody tr th:only-of-type {\n        vertical-align: middle;\n    }\n\n    .dataframe tbody tr th {\n        vertical-align: top;\n    }\n\n    .dataframe thead th {\n        text-align: right;\n    }\n</style>\n<table border=\"1\" class=\"dataframe\">\n  <thead>\n    <tr style=\"text-align: right;\">\n      <th></th>\n      <th>index</th>\n      <th>id</th>\n      <th>departure</th>\n      <th>arrival</th>\n      <th>number</th>\n      <th>route_id</th>\n    </tr>\n  </thead>\n  <tbody>\n    <tr>\n      <th>0</th>\n      <td>0</td>\n      <td>1</td>\n      <td>2016-09-29 00:00:00</td>\n      <td>2016-09-29 12:00:00</td>\n      <td>T1</td>\n      <td>1</td>\n    </tr>\n  </tbody>\n</table>\n</div>"
     },
     "metadata": {},
     "execution_count": 17
    }
   ],
   "source": [
    "pd.read_sql(\"select * from daily_flights;\", db)"
   ]
  },
  {
   "cell_type": "markdown",
   "metadata": {
    "colab_type": "text",
    "id": "jS2jN8rx0NVQ"
   },
   "source": [
    "**ALTER**"
   ]
  },
  {
   "cell_type": "code",
   "execution_count": 18,
   "metadata": {
    "colab": {},
    "colab_type": "code",
    "id": "09KzAFQ60NVR"
   },
   "outputs": [
    {
     "output_type": "error",
     "ename": "NameError",
     "evalue": "name 'conn' is not defined",
     "traceback": [
      "\u001b[1;31m---------------------------------------------------------------------------\u001b[0m",
      "\u001b[1;31mNameError\u001b[0m                                 Traceback (most recent call last)",
      "\u001b[1;32m~\\AppData\\Local\\Temp/ipykernel_18480/3592433588.py\u001b[0m in \u001b[0;36m<module>\u001b[1;34m\u001b[0m\n\u001b[1;32m----> 1\u001b[1;33m \u001b[0mdaily_flights\u001b[0m \u001b[1;33m=\u001b[0m \u001b[0mpd\u001b[0m\u001b[1;33m.\u001b[0m\u001b[0mread_sql\u001b[0m\u001b[1;33m(\u001b[0m\u001b[1;34m\"select * from daily_flights\"\u001b[0m\u001b[1;33m,\u001b[0m \u001b[0mconn\u001b[0m\u001b[1;33m)\u001b[0m\u001b[1;33m\u001b[0m\u001b[0m\n\u001b[0m\u001b[0;32m      2\u001b[0m \u001b[1;33m\u001b[0m\u001b[0m\n\u001b[0;32m      3\u001b[0m \u001b[0mdaily_flights\u001b[0m\u001b[1;33m[\u001b[0m\u001b[1;34m\"delay_minutes\"\u001b[0m\u001b[1;33m]\u001b[0m \u001b[1;33m=\u001b[0m \u001b[1;32mNone\u001b[0m\u001b[1;33m\u001b[0m\u001b[0m\n\u001b[0;32m      4\u001b[0m \u001b[1;33m\u001b[0m\u001b[0m\n\u001b[0;32m      5\u001b[0m \u001b[0mdaily_flights\u001b[0m\u001b[1;33m.\u001b[0m\u001b[0mto_sql\u001b[0m\u001b[1;33m(\u001b[0m\u001b[1;34m\"daily_flights\"\u001b[0m\u001b[1;33m,\u001b[0m \u001b[0mconn\u001b[0m\u001b[1;33m,\u001b[0m \u001b[0mif_exists\u001b[0m\u001b[1;33m=\u001b[0m\u001b[1;34m\"replace\"\u001b[0m\u001b[1;33m)\u001b[0m\u001b[1;33m\u001b[0m\u001b[0m\n",
      "\u001b[1;31mNameError\u001b[0m: name 'conn' is not defined"
     ]
    }
   ],
   "source": [
    "daily_flights = pd.read_sql(\"select * from daily_flights\", db)\n",
    "\n",
    "daily_flights[\"delay_minutes\"] = None\n",
    "\n",
    "daily_flights.to_sql(\"daily_flights\", db, if_exists=\"replace\")"
   ]
  },
  {
   "cell_type": "code",
   "execution_count": 0,
   "metadata": {
    "colab": {},
    "colab_type": "code",
    "id": "GE6jMihE0NVZ",
    "outputId": "4c6a7af6-8de1-4061-a83b-f1b19ea7025e"
   },
   "outputs": [
    {
     "data": {
      "text/html": [
       "<div>\n",
       "<style scoped>\n",
       "    .dataframe tbody tr th:only-of-type {\n",
       "        vertical-align: middle;\n",
       "    }\n",
       "\n",
       "    .dataframe tbody tr th {\n",
       "        vertical-align: top;\n",
       "    }\n",
       "\n",
       "    .dataframe thead th {\n",
       "        text-align: right;\n",
       "    }\n",
       "</style>\n",
       "<table border=\"1\" class=\"dataframe\">\n",
       "  <thead>\n",
       "    <tr style=\"text-align: right;\">\n",
       "      <th></th>\n",
       "      <th>level_0</th>\n",
       "      <th>index</th>\n",
       "      <th>id</th>\n",
       "      <th>departure</th>\n",
       "      <th>arrival</th>\n",
       "      <th>number</th>\n",
       "      <th>route_id</th>\n",
       "      <th>delay_minutes</th>\n",
       "    </tr>\n",
       "  </thead>\n",
       "  <tbody>\n",
       "    <tr>\n",
       "      <th>0</th>\n",
       "      <td>0</td>\n",
       "      <td>0</td>\n",
       "      <td>1</td>\n",
       "      <td>2016-09-29 00:00:00</td>\n",
       "      <td>2016-09-29 12:00:00</td>\n",
       "      <td>T1</td>\n",
       "      <td>1</td>\n",
       "      <td>None</td>\n",
       "    </tr>\n",
       "  </tbody>\n",
       "</table>\n",
       "</div>"
      ],
      "text/plain": [
       "   level_0  index  id            departure              arrival number  \\\n",
       "0        0      0   1  2016-09-29 00:00:00  2016-09-29 12:00:00     T1   \n",
       "\n",
       "   route_id delay_minutes  \n",
       "0         1          None  "
      ]
     },
     "execution_count": 109,
     "metadata": {
      "tags": []
     },
     "output_type": "execute_result"
    }
   ],
   "source": [
    "pd.read_sql(\"select * from daily_flights;\", db)"
   ]
  },
  {
   "cell_type": "markdown",
   "metadata": {
    "colab_type": "text",
    "id": "fR0X-Tl_0TH2"
   },
   "source": [
    "## Ejercicios\n",
    "\n",
    "1. Utiliza un conector de SQLAlchemy para cargar la base de datos `flights.db`.\n",
    "2. Una vez cargados los datos realice las siguientes sentandias SQL con Pandas:\n",
    " * ```SELECT * FROM airports WHERE latitude > 20 AND longitude > 20```\n",
    " * ```SELECT city FROM airports WHERE country = 'Russia' OR country = 'China'```\n",
    " * ```SELECT source COUNT(*) FROM routes GROUP BY source```\n",
    " * ```SELECT country, MIN(latitude), MAX(latitude) FROM airports GROUP BY country```\n",
    " * ```SELECT airline, airline_id  FROM routes ORDER BY source ASC, dest DESC```\n"
   ]
  },
  {
   "cell_type": "code",
   "execution_count": null,
   "metadata": {},
   "outputs": [],
   "source": [
    "from sqlalchemy import create_engine"
   ]
  }
 ],
 "metadata": {
  "colab": {
   "collapsed_sections": [],
   "name": "SQL_PANDAS.ipynb",
   "provenance": [],
   "toc_visible": true,
   "version": "0.3.2"
  },
  "kernelspec": {
   "name": "python3",
   "display_name": "Python 3.7.0 64-bit ('.venv')"
  },
  "language_info": {
   "codemirror_mode": {
    "name": "ipython",
    "version": 3
   },
   "file_extension": ".py",
   "mimetype": "text/x-python",
   "name": "python",
   "nbconvert_exporter": "python",
   "pygments_lexer": "ipython3",
   "version": "3.7.0-final"
  },
  "interpreter": {
   "hash": "88932bc7457214aa686ccca3b4903b295e27b9a33a981ee4f65ad1361f08a06e"
  }
 },
 "nbformat": 4,
 "nbformat_minor": 1
}